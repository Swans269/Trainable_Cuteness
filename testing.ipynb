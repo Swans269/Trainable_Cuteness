{
 "metadata": {
  "language_info": {
   "codemirror_mode": {
    "name": "ipython",
    "version": 3
   },
   "file_extension": ".py",
   "mimetype": "text/x-python",
   "name": "python",
   "nbconvert_exporter": "python",
   "pygments_lexer": "ipython3",
   "version": "3.8.5-final"
  },
  "orig_nbformat": 2,
  "kernelspec": {
   "name": "Python 3.8.5 64-bit",
   "display_name": "Python 3.8.5 64-bit",
   "metadata": {
    "interpreter": {
     "hash": "31f2aee4e71d21fbe5cf8b01ff0e069b9275f58929596ceb00d14d90e3e16cd6"
    }
   }
  }
 },
 "nbformat": 4,
 "nbformat_minor": 2,
 "cells": [
  {
   "cell_type": "code",
   "execution_count": 1,
   "metadata": {},
   "outputs": [],
   "source": [
    "%matplotlib inline\n",
    "import matplotlib.pyplot as plt\n",
    "import torch\n",
    "from torchvision import datasets, transforms\n",
    "import numpy as np\n",
    "import pandas as pd\n",
    "from dataloader import ImageDataSet"
   ]
  },
  {
   "cell_type": "code",
   "execution_count": 2,
   "metadata": {},
   "outputs": [],
   "source": [
    "trainset = ImageDataSet(pd.read_csv('Data/RankedPairs.csv').drop(['SortKey'],axis=1),64,torch.device('cpu'))\n",
    "trainloader = torch.utils.data.DataLoader(trainset,batch_size=6,num_workers=0,shuffle=False,pin_memory=True)\n",
    "dataset = ImageDataSet(pd.read_csv('Data/ImageList.csv'),64,torch.device('cpu'))\n",
    "dataloader = torch.utils.data.DataLoader(dataset,batch_size=100,num_workers=0,shuffle=False,pin_memory=True)"
   ]
  },
  {
   "cell_type": "code",
   "execution_count": 3,
   "metadata": {},
   "outputs": [],
   "source": [
    "train_csv = pd.read_csv('Data/RankedPairs.csv')\n",
    "sort_key = [x for x in range(len(trainset))]\n",
    "sort_key = np.reshape(sort_key,(-1,2))\n",
    "np.random.shuffle(sort_key)\n",
    "sort_key = np.reshape(sort_key,(-1))"
   ]
  },
  {
   "cell_type": "code",
   "execution_count": 4,
   "metadata": {},
   "outputs": [
    {
     "output_type": "execute_result",
     "data": {
      "text/plain": [
       "                               ImageFile  Rating  SortKey\n",
       "0    OIP-tr0q1fDCT9CpzzLXvKzplQHaFj.jpeg       0        0\n",
       "1    OIP-K2IJLZ51b7jxUZ5BqbK8tQHaFj.jpeg       1        1\n",
       "2    OIP-PVC0OpGJYKWGPXgR9YqYQgHaE8.jpeg       0        2\n",
       "3    OIP-K2IJLZ51b7jxUZ5BqbK8tQHaFj.jpeg       1        3\n",
       "4    OIP-fkPYxdnaJeLEg8SbGLRdEgDVEl.jpeg       0        4\n",
       "..                                   ...     ...      ...\n",
       "817  OIP-khE9whYza1vquFILWCebZAHaE8.jpeg       1      817\n",
       "818  OIP-DhTPBAA73c9nBoMKHeumiQHaE7.jpeg       0      818\n",
       "819  OIP-DkG6w7oaGzMOQhSpdEJx9wHaKo.jpeg       1      819\n",
       "820  OIP-A5A5NAm6LQ0MIiukjJlDAAHaEK.jpeg       0      820\n",
       "821  OIP-fqEMmNk-D-ysJQ9uSbzW3gHaEo.jpeg       1      821\n",
       "\n",
       "[822 rows x 3 columns]"
      ],
      "text/html": "<div>\n<style scoped>\n    .dataframe tbody tr th:only-of-type {\n        vertical-align: middle;\n    }\n\n    .dataframe tbody tr th {\n        vertical-align: top;\n    }\n\n    .dataframe thead th {\n        text-align: right;\n    }\n</style>\n<table border=\"1\" class=\"dataframe\">\n  <thead>\n    <tr style=\"text-align: right;\">\n      <th></th>\n      <th>ImageFile</th>\n      <th>Rating</th>\n      <th>SortKey</th>\n    </tr>\n  </thead>\n  <tbody>\n    <tr>\n      <th>0</th>\n      <td>OIP-tr0q1fDCT9CpzzLXvKzplQHaFj.jpeg</td>\n      <td>0</td>\n      <td>0</td>\n    </tr>\n    <tr>\n      <th>1</th>\n      <td>OIP-K2IJLZ51b7jxUZ5BqbK8tQHaFj.jpeg</td>\n      <td>1</td>\n      <td>1</td>\n    </tr>\n    <tr>\n      <th>2</th>\n      <td>OIP-PVC0OpGJYKWGPXgR9YqYQgHaE8.jpeg</td>\n      <td>0</td>\n      <td>2</td>\n    </tr>\n    <tr>\n      <th>3</th>\n      <td>OIP-K2IJLZ51b7jxUZ5BqbK8tQHaFj.jpeg</td>\n      <td>1</td>\n      <td>3</td>\n    </tr>\n    <tr>\n      <th>4</th>\n      <td>OIP-fkPYxdnaJeLEg8SbGLRdEgDVEl.jpeg</td>\n      <td>0</td>\n      <td>4</td>\n    </tr>\n    <tr>\n      <th>...</th>\n      <td>...</td>\n      <td>...</td>\n      <td>...</td>\n    </tr>\n    <tr>\n      <th>817</th>\n      <td>OIP-khE9whYza1vquFILWCebZAHaE8.jpeg</td>\n      <td>1</td>\n      <td>817</td>\n    </tr>\n    <tr>\n      <th>818</th>\n      <td>OIP-DhTPBAA73c9nBoMKHeumiQHaE7.jpeg</td>\n      <td>0</td>\n      <td>818</td>\n    </tr>\n    <tr>\n      <th>819</th>\n      <td>OIP-DkG6w7oaGzMOQhSpdEJx9wHaKo.jpeg</td>\n      <td>1</td>\n      <td>819</td>\n    </tr>\n    <tr>\n      <th>820</th>\n      <td>OIP-A5A5NAm6LQ0MIiukjJlDAAHaEK.jpeg</td>\n      <td>0</td>\n      <td>820</td>\n    </tr>\n    <tr>\n      <th>821</th>\n      <td>OIP-fqEMmNk-D-ysJQ9uSbzW3gHaEo.jpeg</td>\n      <td>1</td>\n      <td>821</td>\n    </tr>\n  </tbody>\n</table>\n<p>822 rows × 3 columns</p>\n</div>"
     },
     "metadata": {},
     "execution_count": 4
    }
   ],
   "source": [
    "train_csv"
   ]
  },
  {
   "cell_type": "code",
   "execution_count": 5,
   "metadata": {},
   "outputs": [
    {
     "output_type": "execute_result",
     "data": {
      "text/plain": [
       "                               ImageFile  Rating  SortKey\n",
       "0                               136.jpeg       0        0\n",
       "1                               137.jpeg       1        1\n",
       "2    OIP-xG0w41Y3RCTk8EuFgU2pBAHaFG.jpeg       0        2\n",
       "3    OIP-K2IJLZ51b7jxUZ5BqbK8tQHaFj.jpeg       1        3\n",
       "4                               176.jpeg       1        4\n",
       "..                                   ...     ...      ...\n",
       "817  OIP-iitQsbjzA89x0-EKXWExAQHaEK.jpeg       1      817\n",
       "818  OIP-i467eIS30UhA3i4xKFmY-wHaFk.jpeg       0      818\n",
       "819  OIP-i787frQ771CACCzrPtDeVAHaF7.jpeg       1      819\n",
       "820                             112.jpeg       1      820\n",
       "821                             115.jpeg       0      821\n",
       "\n",
       "[822 rows x 3 columns]"
      ],
      "text/html": "<div>\n<style scoped>\n    .dataframe tbody tr th:only-of-type {\n        vertical-align: middle;\n    }\n\n    .dataframe tbody tr th {\n        vertical-align: top;\n    }\n\n    .dataframe thead th {\n        text-align: right;\n    }\n</style>\n<table border=\"1\" class=\"dataframe\">\n  <thead>\n    <tr style=\"text-align: right;\">\n      <th></th>\n      <th>ImageFile</th>\n      <th>Rating</th>\n      <th>SortKey</th>\n    </tr>\n  </thead>\n  <tbody>\n    <tr>\n      <th>0</th>\n      <td>136.jpeg</td>\n      <td>0</td>\n      <td>0</td>\n    </tr>\n    <tr>\n      <th>1</th>\n      <td>137.jpeg</td>\n      <td>1</td>\n      <td>1</td>\n    </tr>\n    <tr>\n      <th>2</th>\n      <td>OIP-xG0w41Y3RCTk8EuFgU2pBAHaFG.jpeg</td>\n      <td>0</td>\n      <td>2</td>\n    </tr>\n    <tr>\n      <th>3</th>\n      <td>OIP-K2IJLZ51b7jxUZ5BqbK8tQHaFj.jpeg</td>\n      <td>1</td>\n      <td>3</td>\n    </tr>\n    <tr>\n      <th>4</th>\n      <td>176.jpeg</td>\n      <td>1</td>\n      <td>4</td>\n    </tr>\n    <tr>\n      <th>...</th>\n      <td>...</td>\n      <td>...</td>\n      <td>...</td>\n    </tr>\n    <tr>\n      <th>817</th>\n      <td>OIP-iitQsbjzA89x0-EKXWExAQHaEK.jpeg</td>\n      <td>1</td>\n      <td>817</td>\n    </tr>\n    <tr>\n      <th>818</th>\n      <td>OIP-i467eIS30UhA3i4xKFmY-wHaFk.jpeg</td>\n      <td>0</td>\n      <td>818</td>\n    </tr>\n    <tr>\n      <th>819</th>\n      <td>OIP-i787frQ771CACCzrPtDeVAHaF7.jpeg</td>\n      <td>1</td>\n      <td>819</td>\n    </tr>\n    <tr>\n      <th>820</th>\n      <td>112.jpeg</td>\n      <td>1</td>\n      <td>820</td>\n    </tr>\n    <tr>\n      <th>821</th>\n      <td>115.jpeg</td>\n      <td>0</td>\n      <td>821</td>\n    </tr>\n  </tbody>\n</table>\n<p>822 rows × 3 columns</p>\n</div>"
     },
     "metadata": {},
     "execution_count": 5
    }
   ],
   "source": [
    "train_csv['SortKey'] = sort_key\n",
    "train_csv.sort_values(by=['SortKey'],inplace=True,ascending=True)\n",
    "train_csv.reset_index(drop=True,inplace=True)\n",
    "train_csv"
   ]
  },
  {
   "cell_type": "code",
   "execution_count": 12,
   "metadata": {},
   "outputs": [
    {
     "output_type": "error",
     "ename": "IndentationError",
     "evalue": "expected an indented block (<ipython-input-12-48baa3f53353>, line 6)",
     "traceback": [
      "\u001b[0;36m  File \u001b[0;32m\"<ipython-input-12-48baa3f53353>\"\u001b[0;36m, line \u001b[0;32m6\u001b[0m\n\u001b[0;31m    ax1 = fig.add_subplot(321)\u001b[0m\n\u001b[0m    ^\u001b[0m\n\u001b[0;31mIndentationError\u001b[0m\u001b[0;31m:\u001b[0m expected an indented block\n"
     ]
    }
   ],
   "source": [
    "imagelist = iter(trainloader)\n",
    "images = next(imagelist)\n",
    "fig = plt.figure(figsize = (10,10))\n",
    "n_images = 12\n",
    "for n in n_images:\n",
    "ax1 = fig.add_subplot(321)\n",
    "ax1.imshow(np.transpose(images[0][0], (1,2,0)), interpolation='nearest')\n",
    "ax2 = fig.add_subplot(322)\n",
    "ax2.imshow(np.transpose(images[0][1], (1,2,0)), interpolation='nearest')\n",
    "ax3 = fig.add_subplot(323)\n",
    "ax3.imshow(np.transpose(images[0][2], (1,2,0)), interpolation='nearest')\n",
    "ax4 = fig.add_subplot(324)\n",
    "ax4.imshow(np.transpose(images[0][3], (1,2,0)), interpolation='nearest')\n",
    "ax5 = fig.add_subplot(325)\n",
    "ax5.imshow(np.transpose(images[0][4], (1,2,0)), interpolation='nearest')\n",
    "ax6 = fig.add_subplot(326)\n",
    "ax6.imshow(np.transpose(images[0][5], (1,2,0)), interpolation='nearest')\n",
    "fig.show()"
   ]
  },
  {
   "cell_type": "code",
   "execution_count": 26,
   "metadata": {},
   "outputs": [],
   "source": [
    "def test(model, iterator):\n",
    "    test_result = []\n",
    "    model.eval()\n",
    "    with torch.no_grad():\n",
    "        for batch in iterator:\n",
    "            images = batch[0]\n",
    "            predictions = torch.flatten(model(images))\n",
    "            test_result.extend(predictions.tolist())\n",
    "    return test_result"
   ]
  },
  {
   "cell_type": "code",
   "execution_count": 27,
   "metadata": {},
   "outputs": [],
   "source": [
    "from model import CNNSingleValueRanker\n",
    "#Define the net characteristics\n",
    "\n",
    "n_initial_channels = 3\n",
    "n_conv_blocks = 5\n",
    "image_size = 64\n",
    "\n",
    "#Define the training characteristics\n",
    "train_batch_size = 20\n",
    "full_set_rank_batch_size = 100\n",
    "\n",
    "model = CNNSingleValueRanker(image_size,n_initial_channels,n_conv_blocks)\n",
    "try:\n",
    "    model.load_state_dict(torch.load('RankPrediction-model.pkl'))\n",
    "except:\n",
    "    print('no previously existing trained model')\n",
    "model = model.to(torch.device('cpu'))"
   ]
  },
  {
   "cell_type": "code",
   "execution_count": 28,
   "metadata": {},
   "outputs": [
    {
     "output_type": "execute_result",
     "data": {
      "text/plain": [
       "                                 ImageFile    Rating\n",
       "0      OIP-qRVEhxhzA2Ph71AVxy95GwHaEo.jpeg  2.606380\n",
       "1                                1713.jpeg  2.493047\n",
       "2      OIP-aHyHD9XrtbUVeY0pZaWT3gHaFj.jpeg  2.176726\n",
       "3      OIP-FUcOvcfngNRNfZ1s7o7xmAHaFj.jpeg  2.161285\n",
       "4      OIP-wcqKiFBuN3jMTuOc_rphygHaHa.jpeg  2.160398\n",
       "...                                    ...       ...\n",
       "25835  OIP-omIV2JNmN7um8lv0SFED1gHaFo.jpeg -5.047529\n",
       "25836  OIP-EJZk0GSdY5PG5FvxJpRjDAHaFA.jpeg -5.133920\n",
       "25837  OIP-EgQrXtinWal9y2l9rlR_MgHaE8.jpeg -5.444434\n",
       "25838  OIP-P2tv0XM_koL73268qeIhMgHaE8.jpeg -5.508602\n",
       "25839  OIP-zJn_aY8l9BUxFuy5g9zDqQHaEx.jpeg -6.018020\n",
       "\n",
       "[25840 rows x 2 columns]"
      ],
      "text/html": "<div>\n<style scoped>\n    .dataframe tbody tr th:only-of-type {\n        vertical-align: middle;\n    }\n\n    .dataframe tbody tr th {\n        vertical-align: top;\n    }\n\n    .dataframe thead th {\n        text-align: right;\n    }\n</style>\n<table border=\"1\" class=\"dataframe\">\n  <thead>\n    <tr style=\"text-align: right;\">\n      <th></th>\n      <th>ImageFile</th>\n      <th>Rating</th>\n    </tr>\n  </thead>\n  <tbody>\n    <tr>\n      <th>0</th>\n      <td>OIP-qRVEhxhzA2Ph71AVxy95GwHaEo.jpeg</td>\n      <td>2.606380</td>\n    </tr>\n    <tr>\n      <th>1</th>\n      <td>1713.jpeg</td>\n      <td>2.493047</td>\n    </tr>\n    <tr>\n      <th>2</th>\n      <td>OIP-aHyHD9XrtbUVeY0pZaWT3gHaFj.jpeg</td>\n      <td>2.176726</td>\n    </tr>\n    <tr>\n      <th>3</th>\n      <td>OIP-FUcOvcfngNRNfZ1s7o7xmAHaFj.jpeg</td>\n      <td>2.161285</td>\n    </tr>\n    <tr>\n      <th>4</th>\n      <td>OIP-wcqKiFBuN3jMTuOc_rphygHaHa.jpeg</td>\n      <td>2.160398</td>\n    </tr>\n    <tr>\n      <th>...</th>\n      <td>...</td>\n      <td>...</td>\n    </tr>\n    <tr>\n      <th>25835</th>\n      <td>OIP-omIV2JNmN7um8lv0SFED1gHaFo.jpeg</td>\n      <td>-5.047529</td>\n    </tr>\n    <tr>\n      <th>25836</th>\n      <td>OIP-EJZk0GSdY5PG5FvxJpRjDAHaFA.jpeg</td>\n      <td>-5.133920</td>\n    </tr>\n    <tr>\n      <th>25837</th>\n      <td>OIP-EgQrXtinWal9y2l9rlR_MgHaE8.jpeg</td>\n      <td>-5.444434</td>\n    </tr>\n    <tr>\n      <th>25838</th>\n      <td>OIP-P2tv0XM_koL73268qeIhMgHaE8.jpeg</td>\n      <td>-5.508602</td>\n    </tr>\n    <tr>\n      <th>25839</th>\n      <td>OIP-zJn_aY8l9BUxFuy5g9zDqQHaEx.jpeg</td>\n      <td>-6.018020</td>\n    </tr>\n  </tbody>\n</table>\n<p>25840 rows × 2 columns</p>\n</div>"
     },
     "metadata": {},
     "execution_count": 28
    }
   ],
   "source": [
    "dataset = ImageDataSet(pd.read_csv('Data/ImageList.csv'),64,torch.device('cpu'))\n",
    "dataloader = torch.utils.data.DataLoader(dataset,batch_size=100,num_workers=0,shuffle=False,pin_memory=True)\n",
    "predictions = test(model,dataloader)\n",
    "test_result_df = pd.read_csv('Data/ImageList.csv')\n",
    "test_result_df['Rating']=predictions\n",
    "test_result_df.sort_values(by=['Rating'],inplace=True,ascending=False)\n",
    "test_result_df.reset_index(drop=True)\n",
    "test_result_df.to_csv('Data/ImageList.csv',index=False)\n"
   ]
  },
  {
   "cell_type": "code",
   "execution_count": null,
   "metadata": {},
   "outputs": [],
   "source": []
  }
 ]
}